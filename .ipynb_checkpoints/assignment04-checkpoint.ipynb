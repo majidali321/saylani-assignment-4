{
 "cells": [
  {
   "cell_type": "code",
   "execution_count": 9,
   "id": "50fcb0a6-02ce-4c8c-bd0a-54c12f41937c",
   "metadata": {},
   "outputs": [
    {
     "name": "stdin",
     "output_type": "stream",
     "text": [
      "enter your first name majid\n",
      "enter your first name ali\n",
      "enter your first name gohar\n"
     ]
    },
    {
     "name": "stdout",
     "output_type": "stream",
     "text": [
      "['majid', 'ali', 'gohar']\n"
     ]
    }
   ],
   "source": [
    "movies=[]\n",
    "movies.append(input(\"enter your first name\"))\n",
    "\n",
    "name = input(\"enter your 2nd name\")\n",
    "movies.append(name)\n",
    "name = input(\"enter your third name\")\n",
    "movies.append(name)\n",
    "print(movies)"
   ]
  },
  {
   "cell_type": "code",
   "execution_count": 1,
   "id": "e704fc4a-0491-4017-a93b-e2beea1af88c",
   "metadata": {},
   "outputs": [
    {
     "name": "stdin",
     "output_type": "stream",
     "text": [
      "enter your numbers 1 2 3 4 5\n"
     ]
    },
    {
     "name": "stdout",
     "output_type": "stream",
     "text": [
      "['5', '4', '3', '2', '1']\n"
     ]
    }
   ],
   "source": [
    "# Q2\n",
    "user = input(\"enter your numbers\").split()\n",
    "reverse = user[::-1]\n",
    "print(reverse)"
   ]
  },
  {
   "cell_type": "code",
   "execution_count": 2,
   "id": "020578d0-ccf6-4a3e-9b8b-660fe2eea1c3",
   "metadata": {},
   "outputs": [
    {
     "name": "stdin",
     "output_type": "stream",
     "text": [
      "enter your numbers 1 2 3 4\n"
     ]
    },
    {
     "name": "stdout",
     "output_type": "stream",
     "text": [
      "you num is 4\n"
     ]
    }
   ],
   "source": [
    "# q3\n",
    "user_list = list(map(int,input(\"enter your numbers\").split()))\n",
    "\n",
    "largest_num = user_list[0]\n",
    "\n",
    "for num in user_list:\n",
    "    if num > largest_num:\n",
    "        largest_num = num\n",
    "\n",
    "print(f\"you num is {largest_num}\")"
   ]
  },
  {
   "cell_type": "code",
   "execution_count": 3,
   "id": "1decd179-27d7-4b97-90da-8097b823294c",
   "metadata": {},
   "outputs": [
    {
     "name": "stdin",
     "output_type": "stream",
     "text": [
      "enter your multipleelements for rotating 1 2 3 4\n"
     ]
    },
    {
     "name": "stdout",
     "output_type": "stream",
     "text": [
      "your rotated list  is:  ['4', '1', '2', '3']\n"
     ]
    }
   ],
   "source": [
    "# q4\n",
    "element = input(\"enter your multiple elements for rotating\").split()\n",
    "\n",
    "rotate = [element[-1]] + element[:-1]\n",
    "print(\"your rotated list  is: \",rotate)"
   ]
  },
  {
   "cell_type": "code",
   "execution_count": 4,
   "id": "04ce3b85-ca98-499f-bc60-67ec7aa0f056",
   "metadata": {},
   "outputs": [
    {
     "name": "stdin",
     "output_type": "stream",
     "text": [
      "enter your words   a v b d f g\n"
     ]
    },
    {
     "name": "stdout",
     "output_type": "stream",
     "text": [
      "modified word is \n",
      "\n"
     ]
    }
   ],
   "source": [
    "# Q5\n",
    "\n",
    "user_word = input(\"enter your words  \")\n",
    "modified_word = user_word.replace(user_word,\"\").strip()\n",
    "modified_word = \" \".join(modified_word.split())\n",
    "print(\"modified word is \")\n",
    "print(modified_word)"
   ]
  },
  {
   "cell_type": "code",
   "execution_count": 6,
   "id": "5e2d656a-06c3-4b97-85ca-3aa1d2390f64",
   "metadata": {},
   "outputs": [
    {
     "name": "stdin",
     "output_type": "stream",
     "text": [
      "Enter a date in the format mm/dd/yyyy:  11/22/2222\n"
     ]
    },
    {
     "name": "stdout",
     "output_type": "stream",
     "text": [
      "November 22, 2222\n"
     ]
    }
   ],
   "source": [
    "# Q6\n",
    "# here we are going to make a dictionary\n",
    "months = {\n",
    "    \"01\": \"January\", \"02\": \"February\", \"03\": \"March\", \"04\": \"April\",\n",
    "    \"05\": \"May\", \"06\": \"June\", \"07\": \"July\", \"08\": \"August\",\n",
    "    \"09\": \"September\", \"10\": \"October\", \"11\": \"November\", \"12\": \"December\"\n",
    "}\n",
    "date = input(\"Enter a date in the format mm/dd/yyyy: \")\n",
    "month, day, year =date.split(\"/\")\n",
    "day = str(int(day))\n",
    "month_name = months[month]\n",
    "print(f\"{month_name} {day}, {year}\")\n"
   ]
  },
  {
   "cell_type": "code",
   "execution_count": 7,
   "id": "94eec025-0cb2-4358-9538-87fc418b76db",
   "metadata": {},
   "outputs": [
    {
     "name": "stdin",
     "output_type": "stream",
     "text": [
      "Enter a sentence:  a b c d ssd fger\n"
     ]
    },
    {
     "name": "stdout",
     "output_type": "stream",
     "text": [
      "Capitalized sentence is:\n",
      "A B C D Ssd Fger\n"
     ]
    }
   ],
   "source": [
    "# Q7\n",
    "def capital_words(input_string):\n",
    "    capital_string = input_string.title()\n",
    "    return capital_string\n",
    "# dendur\n",
    "if __name__ == '__main__':\n",
    "    user_input = input(\"Enter a sentence: \")\n",
    "    final = capital_words(user_input)\n",
    "    print(\"Capitalized sentence is:\")\n",
    "    print(final)"
   ]
  },
  {
   "cell_type": "code",
   "execution_count": 8,
   "id": "2ebf7a94-1a58-4702-8830-f44954d707f1",
   "metadata": {},
   "outputs": [
    {
     "name": "stdout",
     "output_type": "stream",
     "text": [
      "[2, 11, 7, 12]\n",
      "[5, 2, 9, 15]\n",
      "[8, 3, 10, 42]\n",
      "Sum of row 1 = 32\n",
      "Sum of row 2 = 31\n",
      "Sum of row 3 = 63\n"
     ]
    }
   ],
   "source": [
    "# q8\n",
    "# Function to calculate the addition of each row in a matrix\n",
    "def sum_row(matrix):\n",
    "    for i, row in enumerate(matrix):\n",
    "        row_sum = sum(row)\n",
    "        print(f\"Sum of row {i + 1} = {row_sum}\")\n",
    "\n",
    "if __name__ == '__main__':\n",
    "    matrix = [\n",
    "        [2, 11, 7, 12],\n",
    "        [5, 2, 9, 15],\n",
    "        [8, 3, 10, 42]\n",
    "    ]\n",
    "    for row in matrix:\n",
    "        print(row)\n",
    "    sum_row(matrix)"
   ]
  },
  {
   "cell_type": "code",
   "execution_count": 9,
   "id": "693b720a-0745-4648-9b70-36bd2098b742",
   "metadata": {},
   "outputs": [
    {
     "name": "stdout",
     "output_type": "stream",
     "text": [
      "Resultant \n",
      "[5, 5, 5]\n",
      "[7, 7, 7]\n",
      "[9, 9, 9]\n"
     ]
    }
   ],
   "source": [
    "# q9\n",
    "def add_matrices(matrix1, matrix2):\n",
    "    result = []\n",
    "    for i in range(len(matrix1)):\n",
    "        row = []\n",
    "        for j in range(len(matrix1[0])):\n",
    "            row.append(matrix1[i][j] + matrix2[i][j])\n",
    "        result.append(row)\n",
    "    return result\n",
    "if __name__ == '__main__':\n",
    "    #  two matrices of size n x m\n",
    "    matrix1 = [\n",
    "        [1, 1, 1],\n",
    "        [2, 2, 2],\n",
    "        [3, 3, 3]\n",
    "    ]\n",
    "    matrix2 = [\n",
    "        [4, 4, 4],\n",
    "        [5, 5, 5],\n",
    "        [6, 6, 6]\n",
    "    ]\n",
    "    result_matrix = add_matrices(matrix1, matrix2)\n",
    "    print(\"Result is :  \")\n",
    "    for row in result_matrix:\n",
    "        print(row)"
   ]
  },
  {
   "cell_type": "code",
   "execution_count": 10,
   "id": "67538e95-b82a-4971-8c37-c980483daa79",
   "metadata": {},
   "outputs": [
    {
     "name": "stdout",
     "output_type": "stream",
     "text": [
      "Resultant \n",
      "[4, 4, 4]\n",
      "[10, 10, 10]\n",
      "[18, 18, 18]\n"
     ]
    }
   ],
   "source": [
    "# Q10\n",
    "def multiply_matrices(matrix1, matrix2):\n",
    "    result = []\n",
    "    for i in range(len(matrix1)):\n",
    "        row = []\n",
    "        for j in range(len(matrix1[0])):\n",
    "            row.append(matrix1[i][j] * matrix2[i][j])\n",
    "        result.append(row)\n",
    "    return result\n",
    "if __name__ == '__main__':\n",
    "    #  two matrices of size n x m\n",
    "    matrix1 = [\n",
    "        [1, 1, 1],\n",
    "        [2, 2, 2],\n",
    "        [3, 3, 3]\n",
    "    ]\n",
    "    matrix2 = [\n",
    "        [4, 4, 4],\n",
    "        [5, 5, 5],\n",
    "        [6, 6, 6]\n",
    "    ]\n",
    "    result_matrix = multiply_matrices(matrix1, matrix2)\n",
    "    print(\"Result is : \")\n",
    "    for row in result_matrix:\n",
    "        print(row)"
   ]
  },
  {
   "cell_type": "code",
   "execution_count": null,
   "id": "7d0b903e-603f-47b0-aecf-49b99cb900f9",
   "metadata": {},
   "outputs": [],
   "source": []
  }
 ],
 "metadata": {
  "kernelspec": {
   "display_name": "Python 3 (ipykernel)",
   "language": "python",
   "name": "python3"
  },
  "language_info": {
   "codemirror_mode": {
    "name": "ipython",
    "version": 3
   },
   "file_extension": ".py",
   "mimetype": "text/x-python",
   "name": "python",
   "nbconvert_exporter": "python",
   "pygments_lexer": "ipython3",
   "version": "3.11.7"
  }
 },
 "nbformat": 4,
 "nbformat_minor": 5
}
